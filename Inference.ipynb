{
 "cells": [
  {
   "cell_type": "code",
   "execution_count": 1,
   "metadata": {},
   "outputs": [
    {
     "name": "stderr",
     "output_type": "stream",
     "text": [
      "Using TensorFlow backend.\n"
     ]
    }
   ],
   "source": [
    "import numpy as np\n",
    "import pandas as pd\n",
    "import pydicom\n",
    "%matplotlib inline\n",
    "import matplotlib.pyplot as plt\n",
    "import keras\n",
    "from keras.models import model_from_json\n",
    "from skimage.transform import resize,rescale"
   ]
  },
  {
   "cell_type": "code",
   "execution_count": 41,
   "metadata": {
    "collapsed": true
   },
   "outputs": [],
   "source": [
    "# This function reads in a .dcm file, checks the important fields for our device, and returns a numpy array\n",
    "# of just the imaging data\n",
    "def check_dicom(filename): \n",
    "    # todo\n",
    "    \n",
    "    \n",
    "    ds = pydicom.dcmread(filename)  \n",
    "    #print(ds)\n",
    "    img = ds.pixel_array\n",
    "    \n",
    "    if (ds.Modality != 'DX'):\n",
    "        img = None\n",
    "    if(ds.BodyPartExamined != 'CHEST'):\n",
    "        img = None\n",
    "    if((ds.PatientPosition != 'PA') and (ds.PatientPosition != 'AP')):\n",
    "        img = None\n",
    "    if img is None:\n",
    "        print('{} ... Failed Check'.format(filename))\n",
    "        print('  ')\n",
    "    else:\n",
    "        print('Load file {} ...'.format(filename))\n",
    "        print('Image type : {}, Body Part : {}, Patient Position : {}'.format(ds.Modality,ds.BodyPartExamined,ds.PatientPosition))\n",
    "    \n",
    "    \n",
    "    return img\n",
    "    \n",
    "    \n",
    "# This function takes the numpy array output by check_dicom and \n",
    "# runs the appropriate pre-processing needed for our model input\n",
    "def preprocess_image(img,img_mean,img_std,img_size): \n",
    "    # todo\n",
    "    \n",
    "    proc_img = img.copy()\n",
    "    #img_mean = np.mean(proc_img)\n",
    "    #img_std = np.std(proc_img)\n",
    "    #proc_img = (proc_img - img_mean)/img_std\n",
    "    proc_img = rescale(proc_img, 0.25, anti_aliasing=True)\n",
    "    proc_img = resize(proc_img, (img_size),anti_aliasing=True)\n",
    "    \n",
    "    #plt.imshow(proc_img)\n",
    "\n",
    "    \n",
    "    \n",
    "    \n",
    "    #print(proc_img.shape[0])\n",
    "     \n",
    "    return proc_img\n",
    "\n",
    "# This function loads in our trained model w/ weights and compiles it \n",
    "def load_model(model_path, weight_path):\n",
    "    # todo\n",
    "    json_file = open(model_path, 'r')\n",
    "    loaded_model = json_file.read()\n",
    "    json_file.close()\n",
    "    model = model_from_json(loaded_model)\n",
    "    # load weights into new model\n",
    "    model.load_weights(weight_path)\n",
    "    model.compile(optimizer='adam', loss='binary_crossentropy', metrics=['binary_accuracy'])\n",
    "    \n",
    "    return model\n",
    "\n",
    "# This function uses our device's threshold parameters to predict whether or not\n",
    "# the image shows the presence of pneumonia using our trained model\n",
    "def predict_image(model, img, thresh): \n",
    "    # todo\n",
    "    #plt.imshow(img)\n",
    "    #plt.xlabel(\"Prediction: \" + (\"PNEUMONIA\" if model.predict(img) > thresh else \"NORMAL\"))\n",
    "    prediction = (\"PNEUMONIA\" if model.predict(img) > thresh else \"NO PNEUMONIA\")\n",
    "    #prediction = model.predict(img)\n",
    "    \n",
    "    #plt.show()\n",
    "    \n",
    "    return prediction "
   ]
  },
  {
   "cell_type": "code",
   "execution_count": 3,
   "metadata": {},
   "outputs": [
    {
     "name": "stdout",
     "output_type": "stream",
     "text": [
      "Model: \"sequential_1\"\n",
      "_________________________________________________________________\n",
      "Layer (type)                 Output Shape              Param #   \n",
      "=================================================================\n",
      "model_1 (Model)              (None, 7, 7, 512)         14714688  \n",
      "_________________________________________________________________\n",
      "flatten_1 (Flatten)          (None, 25088)             0         \n",
      "_________________________________________________________________\n",
      "dropout_1 (Dropout)          (None, 25088)             0         \n",
      "_________________________________________________________________\n",
      "dense_1 (Dense)              (None, 512)               12845568  \n",
      "_________________________________________________________________\n",
      "dropout_2 (Dropout)          (None, 512)               0         \n",
      "_________________________________________________________________\n",
      "dense_2 (Dense)              (None, 256)               131328    \n",
      "_________________________________________________________________\n",
      "dropout_3 (Dropout)          (None, 256)               0         \n",
      "_________________________________________________________________\n",
      "dense_3 (Dense)              (None, 64)                16448     \n",
      "_________________________________________________________________\n",
      "dense_4 (Dense)              (None, 1)                 65        \n",
      "=================================================================\n",
      "Total params: 27,708,097\n",
      "Trainable params: 15,353,217\n",
      "Non-trainable params: 12,354,880\n",
      "_________________________________________________________________\n"
     ]
    }
   ],
   "source": [
    "my_model = load_model('model.json',\"{}_my_model.best.hdf5\".format('xray_class'))\n",
    "my_model.summary()"
   ]
  },
  {
   "cell_type": "code",
   "execution_count": 42,
   "metadata": {},
   "outputs": [
    {
     "name": "stdout",
     "output_type": "stream",
     "text": [
      "Load file test1.dcm ...\n",
      "Image type : DX, Body Part : CHEST, Patient Position : PA\n",
      "PNEUMONIA\n",
      "  \n",
      "Load file test2.dcm ...\n",
      "Image type : DX, Body Part : CHEST, Patient Position : AP\n",
      "PNEUMONIA\n",
      "  \n",
      "Load file test3.dcm ...\n",
      "Image type : DX, Body Part : CHEST, Patient Position : AP\n",
      "PNEUMONIA\n",
      "  \n",
      "test4.dcm ... Failed Check\n",
      "  \n",
      "test5.dcm ... Failed Check\n",
      "  \n",
      "test6.dcm ... Failed Check\n",
      "  \n"
     ]
    }
   ],
   "source": [
    "test_dicoms = ['test1.dcm','test2.dcm','test3.dcm','test4.dcm','test5.dcm','test6.dcm']\n",
    "\n",
    "model_path = 'model.json'#path to saved model\n",
    "weight_path = \"{}_my_model.best.hdf5\".format('xray_class')#path to saved best weights\n",
    "\n",
    "IMG_SIZE=(1,224,224,3) # This might be different if you did not use vgg16\n",
    "img_mean = 0 \n",
    "img_std = 0\n",
    "\n",
    "my_model = load_model(model_path,weight_path)#loads model\n",
    "thresh = 0.559925377368927#loads the threshold they chose for model classification \n",
    "\n",
    "# use the .dcm files to test your prediction\n",
    "for i in test_dicoms:\n",
    "    \n",
    "    img = np.array([])\n",
    "    img = check_dicom(i)\n",
    "    \n",
    "    if img is None:\n",
    "        continue\n",
    "    else:\n",
    "        img_proc = preprocess_image(img,img_mean,img_std,IMG_SIZE)\n",
    "        pred = predict_image(my_model,img_proc,thresh)\n",
    "        \n",
    "        print(pred)\n",
    "        print('  ')\n"
   ]
  },
  {
   "cell_type": "code",
   "execution_count": null,
   "metadata": {
    "collapsed": true
   },
   "outputs": [],
   "source": []
  }
 ],
 "metadata": {
  "kernelspec": {
   "display_name": "Python 3",
   "language": "python",
   "name": "python3"
  },
  "language_info": {
   "codemirror_mode": {
    "name": "ipython",
    "version": 3
   },
   "file_extension": ".py",
   "mimetype": "text/x-python",
   "name": "python",
   "nbconvert_exporter": "python",
   "pygments_lexer": "ipython3",
   "version": "3.6.3"
  }
 },
 "nbformat": 4,
 "nbformat_minor": 4
}
